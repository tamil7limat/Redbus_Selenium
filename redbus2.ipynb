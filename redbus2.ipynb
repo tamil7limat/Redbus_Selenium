{
 "cells": [
  {
   "cell_type": "code",
   "execution_count": 3,
   "metadata": {},
   "outputs": [],
   "source": [
    "import pandas as pd"
   ]
  },
  {
   "cell_type": "code",
   "execution_count": 3,
   "metadata": {},
   "outputs": [
    {
     "name": "stdout",
     "output_type": "stream",
     "text": [
      "Requirement already satisfied: mysql-connector-python in c:\\users\\admin\\appdata\\local\\programs\\python\\python312\\lib\\site-packages (9.0.0)\n",
      "Note: you may need to restart the kernel to use updated packages.\n"
     ]
    },
    {
     "name": "stderr",
     "output_type": "stream",
     "text": [
      "\n",
      "[notice] A new release of pip is available: 24.0 -> 24.2\n",
      "[notice] To update, run: python.exe -m pip install --upgrade pip\n"
     ]
    }
   ],
   "source": [
    "pip install mysql-connector-python"
   ]
  },
  {
   "cell_type": "code",
   "execution_count": 5,
   "metadata": {},
   "outputs": [],
   "source": [
    "import mysql\n",
    "import mysql.connector"
   ]
  },
  {
   "cell_type": "code",
   "execution_count": 8,
   "metadata": {},
   "outputs": [
    {
     "ename": "ProgrammingError",
     "evalue": "1045 (28000): Access denied for user 'root'@'localhost' (using password: NO)",
     "output_type": "error",
     "traceback": [
      "\u001b[1;31m---------------------------------------------------------------------------\u001b[0m",
      "\u001b[1;31mMySQLInterfaceError\u001b[0m                       Traceback (most recent call last)",
      "File \u001b[1;32mc:\\Users\\admin\\AppData\\Local\\Programs\\Python\\Python312\\Lib\\site-packages\\mysql\\connector\\connection_cext.py:334\u001b[0m, in \u001b[0;36mCMySQLConnection._open_connection\u001b[1;34m(self)\u001b[0m\n\u001b[0;32m    333\u001b[0m \u001b[38;5;28;01mtry\u001b[39;00m:\n\u001b[1;32m--> 334\u001b[0m     \u001b[38;5;28;43mself\u001b[39;49m\u001b[38;5;241;43m.\u001b[39;49m\u001b[43m_cmysql\u001b[49m\u001b[38;5;241;43m.\u001b[39;49m\u001b[43mconnect\u001b[49m\u001b[43m(\u001b[49m\u001b[38;5;241;43m*\u001b[39;49m\u001b[38;5;241;43m*\u001b[39;49m\u001b[43mcnx_kwargs\u001b[49m\u001b[43m)\u001b[49m\n\u001b[0;32m    335\u001b[0m     \u001b[38;5;28mself\u001b[39m\u001b[38;5;241m.\u001b[39m_cmysql\u001b[38;5;241m.\u001b[39mconverter_str_fallback \u001b[38;5;241m=\u001b[39m \u001b[38;5;28mself\u001b[39m\u001b[38;5;241m.\u001b[39m_converter_str_fallback\n",
      "\u001b[1;31mMySQLInterfaceError\u001b[0m: Access denied for user 'root'@'localhost' (using password: NO)",
      "\nThe above exception was the direct cause of the following exception:\n",
      "\u001b[1;31mProgrammingError\u001b[0m                          Traceback (most recent call last)",
      "Cell \u001b[1;32mIn[8], line 2\u001b[0m\n\u001b[0;32m      1\u001b[0m \u001b[38;5;66;03m#server=mysql.connector.connect(host=\"database-1.chsyg0qaghtk.ap-south-1.rds.amazonaws.com\",user=\"admin\",password=\"ssn20655\",database=\"tamil\")\u001b[39;00m\n\u001b[1;32m----> 2\u001b[0m server\u001b[38;5;241m=\u001b[39m\u001b[43mmysql\u001b[49m\u001b[38;5;241;43m.\u001b[39;49m\u001b[43mconnector\u001b[49m\u001b[38;5;241;43m.\u001b[39;49m\u001b[43mconnect\u001b[49m\u001b[43m(\u001b[49m\u001b[43mhost\u001b[49m\u001b[38;5;241;43m=\u001b[39;49m\u001b[38;5;124;43m\"\u001b[39;49m\u001b[38;5;124;43mlocalhost\u001b[39;49m\u001b[38;5;124;43m\"\u001b[39;49m\u001b[43m,\u001b[49m\u001b[43muser\u001b[49m\u001b[38;5;241;43m=\u001b[39;49m\u001b[38;5;124;43m\"\u001b[39;49m\u001b[38;5;124;43mroot\u001b[39;49m\u001b[38;5;124;43m\"\u001b[39;49m\u001b[43m,\u001b[49m\u001b[43mpassword\u001b[49m\u001b[38;5;241;43m=\u001b[39;49m\u001b[38;5;124;43m\"\u001b[39;49m\u001b[38;5;124;43m\"\u001b[39;49m\u001b[43m,\u001b[49m\u001b[43mdatabase\u001b[49m\u001b[38;5;241;43m=\u001b[39;49m\u001b[38;5;124;43m\"\u001b[39;49m\u001b[38;5;124;43mtamil\u001b[39;49m\u001b[38;5;124;43m\"\u001b[39;49m\u001b[43m)\u001b[49m\n",
      "File \u001b[1;32mc:\\Users\\admin\\AppData\\Local\\Programs\\Python\\Python312\\Lib\\site-packages\\mysql\\connector\\pooling.py:322\u001b[0m, in \u001b[0;36mconnect\u001b[1;34m(*args, **kwargs)\u001b[0m\n\u001b[0;32m    319\u001b[0m         \u001b[38;5;28;01mraise\u001b[39;00m \u001b[38;5;167;01mImportError\u001b[39;00m(ERROR_NO_CEXT)\n\u001b[0;32m    321\u001b[0m \u001b[38;5;28;01mif\u001b[39;00m CMySQLConnection \u001b[38;5;129;01mand\u001b[39;00m \u001b[38;5;129;01mnot\u001b[39;00m use_pure:\n\u001b[1;32m--> 322\u001b[0m     \u001b[38;5;28;01mreturn\u001b[39;00m \u001b[43mCMySQLConnection\u001b[49m\u001b[43m(\u001b[49m\u001b[38;5;241;43m*\u001b[39;49m\u001b[43margs\u001b[49m\u001b[43m,\u001b[49m\u001b[43m \u001b[49m\u001b[38;5;241;43m*\u001b[39;49m\u001b[38;5;241;43m*\u001b[39;49m\u001b[43mkwargs\u001b[49m\u001b[43m)\u001b[49m\n\u001b[0;32m    323\u001b[0m \u001b[38;5;28;01mreturn\u001b[39;00m MySQLConnection(\u001b[38;5;241m*\u001b[39margs, \u001b[38;5;241m*\u001b[39m\u001b[38;5;241m*\u001b[39mkwargs)\n",
      "File \u001b[1;32mc:\\Users\\admin\\AppData\\Local\\Programs\\Python\\Python312\\Lib\\site-packages\\mysql\\connector\\connection_cext.py:151\u001b[0m, in \u001b[0;36mCMySQLConnection.__init__\u001b[1;34m(self, **kwargs)\u001b[0m\n\u001b[0;32m    149\u001b[0m \u001b[38;5;28;01mif\u001b[39;00m kwargs:\n\u001b[0;32m    150\u001b[0m     \u001b[38;5;28;01mtry\u001b[39;00m:\n\u001b[1;32m--> 151\u001b[0m         \u001b[38;5;28;43mself\u001b[39;49m\u001b[38;5;241;43m.\u001b[39;49m\u001b[43mconnect\u001b[49m\u001b[43m(\u001b[49m\u001b[38;5;241;43m*\u001b[39;49m\u001b[38;5;241;43m*\u001b[39;49m\u001b[43mkwargs\u001b[49m\u001b[43m)\u001b[49m\n\u001b[0;32m    152\u001b[0m     \u001b[38;5;28;01mexcept\u001b[39;00m \u001b[38;5;167;01mException\u001b[39;00m:\n\u001b[0;32m    153\u001b[0m         \u001b[38;5;28mself\u001b[39m\u001b[38;5;241m.\u001b[39mclose()\n",
      "File \u001b[1;32mc:\\Users\\admin\\AppData\\Local\\Programs\\Python\\Python312\\Lib\\site-packages\\mysql\\connector\\abstracts.py:1399\u001b[0m, in \u001b[0;36mMySQLConnectionAbstract.connect\u001b[1;34m(self, **kwargs)\u001b[0m\n\u001b[0;32m   1396\u001b[0m     \u001b[38;5;28mself\u001b[39m\u001b[38;5;241m.\u001b[39mconfig(\u001b[38;5;241m*\u001b[39m\u001b[38;5;241m*\u001b[39mkwargs)\n\u001b[0;32m   1398\u001b[0m \u001b[38;5;28mself\u001b[39m\u001b[38;5;241m.\u001b[39mdisconnect()\n\u001b[1;32m-> 1399\u001b[0m \u001b[38;5;28;43mself\u001b[39;49m\u001b[38;5;241;43m.\u001b[39;49m\u001b[43m_open_connection\u001b[49m\u001b[43m(\u001b[49m\u001b[43m)\u001b[49m\n\u001b[0;32m   1401\u001b[0m charset, collation \u001b[38;5;241m=\u001b[39m (\n\u001b[0;32m   1402\u001b[0m     kwargs\u001b[38;5;241m.\u001b[39mpop(\u001b[38;5;124m\"\u001b[39m\u001b[38;5;124mcharset\u001b[39m\u001b[38;5;124m\"\u001b[39m, \u001b[38;5;28;01mNone\u001b[39;00m),\n\u001b[0;32m   1403\u001b[0m     kwargs\u001b[38;5;241m.\u001b[39mpop(\u001b[38;5;124m\"\u001b[39m\u001b[38;5;124mcollation\u001b[39m\u001b[38;5;124m\"\u001b[39m, \u001b[38;5;28;01mNone\u001b[39;00m),\n\u001b[0;32m   1404\u001b[0m )\n\u001b[0;32m   1405\u001b[0m \u001b[38;5;28;01mif\u001b[39;00m charset \u001b[38;5;129;01mor\u001b[39;00m collation:\n",
      "File \u001b[1;32mc:\\Users\\admin\\AppData\\Local\\Programs\\Python\\Python312\\Lib\\site-packages\\mysql\\connector\\connection_cext.py:339\u001b[0m, in \u001b[0;36mCMySQLConnection._open_connection\u001b[1;34m(self)\u001b[0m\n\u001b[0;32m    337\u001b[0m         \u001b[38;5;28mself\u001b[39m\u001b[38;5;241m.\u001b[39mconverter\u001b[38;5;241m.\u001b[39mstr_fallback \u001b[38;5;241m=\u001b[39m \u001b[38;5;28mself\u001b[39m\u001b[38;5;241m.\u001b[39m_converter_str_fallback\n\u001b[0;32m    338\u001b[0m \u001b[38;5;28;01mexcept\u001b[39;00m MySQLInterfaceError \u001b[38;5;28;01mas\u001b[39;00m err:\n\u001b[1;32m--> 339\u001b[0m     \u001b[38;5;28;01mraise\u001b[39;00m get_mysql_exception(\n\u001b[0;32m    340\u001b[0m         msg\u001b[38;5;241m=\u001b[39merr\u001b[38;5;241m.\u001b[39mmsg, errno\u001b[38;5;241m=\u001b[39merr\u001b[38;5;241m.\u001b[39merrno, sqlstate\u001b[38;5;241m=\u001b[39merr\u001b[38;5;241m.\u001b[39msqlstate\n\u001b[0;32m    341\u001b[0m     ) \u001b[38;5;28;01mfrom\u001b[39;00m \u001b[38;5;21;01merr\u001b[39;00m\n\u001b[0;32m    343\u001b[0m \u001b[38;5;28mself\u001b[39m\u001b[38;5;241m.\u001b[39m_do_handshake()\n\u001b[0;32m    345\u001b[0m \u001b[38;5;28;01mif\u001b[39;00m (\n\u001b[0;32m    346\u001b[0m     \u001b[38;5;129;01mnot\u001b[39;00m \u001b[38;5;28mself\u001b[39m\u001b[38;5;241m.\u001b[39m_ssl_disabled\n\u001b[0;32m    347\u001b[0m     \u001b[38;5;129;01mand\u001b[39;00m \u001b[38;5;28mhasattr\u001b[39m(\u001b[38;5;28mself\u001b[39m\u001b[38;5;241m.\u001b[39m_cmysql, \u001b[38;5;124m\"\u001b[39m\u001b[38;5;124mget_ssl_cipher\u001b[39m\u001b[38;5;124m\"\u001b[39m)\n\u001b[1;32m   (...)\u001b[0m\n\u001b[0;32m    352\u001b[0m \n\u001b[0;32m    353\u001b[0m     \u001b[38;5;66;03m# `get_ssl_cipher()` returns the name of the cipher being used.\u001b[39;00m\n",
      "\u001b[1;31mProgrammingError\u001b[0m: 1045 (28000): Access denied for user 'root'@'localhost' (using password: NO)"
     ]
    }
   ],
   "source": [
    "#server=mysql.connector.connect(host=\"database-1.chsyg0qaghtk.ap-south-1.rds.amazonaws.com\",user=\"admin\",password=\"ssn20655\",database=\"tamil\")\n",
    "server=mysql.connector.connect(host=\"localhost\",user=\"root\",password=\"\",database=\"tamil\",port)"
   ]
  },
  {
   "cell_type": "code",
   "execution_count": 6,
   "metadata": {},
   "outputs": [],
   "source": [
    "limat=server.cursor()"
   ]
  },
  {
   "cell_type": "code",
   "execution_count": 7,
   "metadata": {},
   "outputs": [],
   "source": [
    "server.commit()"
   ]
  },
  {
   "cell_type": "code",
   "execution_count": null,
   "metadata": {},
   "outputs": [],
   "source": []
  },
  {
   "cell_type": "code",
   "execution_count": null,
   "metadata": {},
   "outputs": [],
   "source": []
  },
  {
   "cell_type": "code",
   "execution_count": null,
   "metadata": {},
   "outputs": [],
   "source": []
  },
  {
   "cell_type": "code",
   "execution_count": null,
   "metadata": {},
   "outputs": [],
   "source": []
  },
  {
   "cell_type": "code",
   "execution_count": null,
   "metadata": {},
   "outputs": [],
   "source": []
  },
  {
   "cell_type": "code",
   "execution_count": null,
   "metadata": {},
   "outputs": [],
   "source": []
  },
  {
   "cell_type": "code",
   "execution_count": null,
   "metadata": {},
   "outputs": [],
   "source": []
  },
  {
   "cell_type": "code",
   "execution_count": 8,
   "metadata": {},
   "outputs": [],
   "source": [
    "import time\n",
    "import numpy as np"
   ]
  },
  {
   "cell_type": "code",
   "execution_count": 9,
   "metadata": {},
   "outputs": [],
   "source": [
    "data=pd.read_csv('state_all.csv')\n"
   ]
  },
  {
   "cell_type": "code",
   "execution_count": 10,
   "metadata": {},
   "outputs": [],
   "source": [
    "rb=pd.DataFrame(data)"
   ]
  },
  {
   "cell_type": "code",
   "execution_count": 11,
   "metadata": {},
   "outputs": [
    {
     "name": "stdout",
     "output_type": "stream",
     "text": [
      "<class 'pandas.core.frame.DataFrame'>\n",
      "RangeIndex: 10467 entries, 0 to 10466\n",
      "Data columns (total 11 columns):\n",
      " #   Column           Non-Null Count  Dtype \n",
      "---  ------           --------------  ----- \n",
      " 0   Unnamed: 0       10467 non-null  int64 \n",
      " 1   route_names      10467 non-null  object\n",
      " 2   route_links      10467 non-null  object\n",
      " 3   bus_names        10467 non-null  object\n",
      " 4   bus_types        10467 non-null  object\n",
      " 5   departing_time   10467 non-null  object\n",
      " 6   duration         10467 non-null  object\n",
      " 7   reaching_time    10467 non-null  object\n",
      " 8   star_rating      10467 non-null  object\n",
      " 9   prices           10467 non-null  object\n",
      " 10  seats_available  10467 non-null  object\n",
      "dtypes: int64(1), object(10)\n",
      "memory usage: 899.6+ KB\n"
     ]
    }
   ],
   "source": [
    "rb.info()"
   ]
  },
  {
   "cell_type": "code",
   "execution_count": 12,
   "metadata": {},
   "outputs": [],
   "source": [
    "rb.set_index('Unnamed: 0', inplace=True)\n"
   ]
  },
  {
   "cell_type": "code",
   "execution_count": 13,
   "metadata": {},
   "outputs": [
    {
     "data": {
      "text/html": [
       "<div>\n",
       "<style scoped>\n",
       "    .dataframe tbody tr th:only-of-type {\n",
       "        vertical-align: middle;\n",
       "    }\n",
       "\n",
       "    .dataframe tbody tr th {\n",
       "        vertical-align: top;\n",
       "    }\n",
       "\n",
       "    .dataframe thead th {\n",
       "        text-align: right;\n",
       "    }\n",
       "</style>\n",
       "<table border=\"1\" class=\"dataframe\">\n",
       "  <thead>\n",
       "    <tr style=\"text-align: right;\">\n",
       "      <th></th>\n",
       "      <th>route_names</th>\n",
       "      <th>route_links</th>\n",
       "      <th>bus_names</th>\n",
       "      <th>bus_types</th>\n",
       "      <th>departing_time</th>\n",
       "      <th>duration</th>\n",
       "      <th>reaching_time</th>\n",
       "      <th>star_rating</th>\n",
       "      <th>prices</th>\n",
       "      <th>seats_available</th>\n",
       "    </tr>\n",
       "    <tr>\n",
       "      <th>Unnamed: 0</th>\n",
       "      <th></th>\n",
       "      <th></th>\n",
       "      <th></th>\n",
       "      <th></th>\n",
       "      <th></th>\n",
       "      <th></th>\n",
       "      <th></th>\n",
       "      <th></th>\n",
       "      <th></th>\n",
       "      <th></th>\n",
       "    </tr>\n",
       "  </thead>\n",
       "  <tbody>\n",
       "    <tr>\n",
       "      <th>0</th>\n",
       "      <td>Vijayawada to Hyderabad</td>\n",
       "      <td>https://www.redbus.in/bus-tickets/vijayawada-t...</td>\n",
       "      <td>TSRTC - 1758</td>\n",
       "      <td>SUPER LUXURY (NON-AC, 2 + 2 PUSH BACK)</td>\n",
       "      <td>00:15</td>\n",
       "      <td>04h 50m</td>\n",
       "      <td>05:05</td>\n",
       "      <td>3.4</td>\n",
       "      <td>INR 396</td>\n",
       "      <td>10 Seats available</td>\n",
       "    </tr>\n",
       "    <tr>\n",
       "      <th>1</th>\n",
       "      <td>Vijayawada to Hyderabad</td>\n",
       "      <td>https://www.redbus.in/bus-tickets/vijayawada-t...</td>\n",
       "      <td>TSRTC - 42162</td>\n",
       "      <td>SUPER LUXURY (NON-AC, 2 + 2 PUSH BACK)</td>\n",
       "      <td>01:10</td>\n",
       "      <td>06h 10m</td>\n",
       "      <td>07:20</td>\n",
       "      <td>4.2\\n55</td>\n",
       "      <td>INR 396</td>\n",
       "      <td>28 Seats available</td>\n",
       "    </tr>\n",
       "    <tr>\n",
       "      <th>2</th>\n",
       "      <td>Vijayawada to Hyderabad</td>\n",
       "      <td>https://www.redbus.in/bus-tickets/vijayawada-t...</td>\n",
       "      <td>TSRTC - 30710</td>\n",
       "      <td>RAJDHANI (A.C. Semi Sleeper)</td>\n",
       "      <td>01:20</td>\n",
       "      <td>05h 40m</td>\n",
       "      <td>07:00</td>\n",
       "      <td>4.1\\n18</td>\n",
       "      <td>INR 480</td>\n",
       "      <td>32 Seats available</td>\n",
       "    </tr>\n",
       "    <tr>\n",
       "      <th>3</th>\n",
       "      <td>Vijayawada to Hyderabad</td>\n",
       "      <td>https://www.redbus.in/bus-tickets/vijayawada-t...</td>\n",
       "      <td>TSRTC - 42362</td>\n",
       "      <td>SUPER LUXURY (NON-AC, 2 + 2 PUSH BACK)</td>\n",
       "      <td>01:50</td>\n",
       "      <td>06h 10m</td>\n",
       "      <td>08:00</td>\n",
       "      <td>4.3\\n22</td>\n",
       "      <td>INR 396</td>\n",
       "      <td>30 Seats available</td>\n",
       "    </tr>\n",
       "    <tr>\n",
       "      <th>4</th>\n",
       "      <td>Vijayawada to Hyderabad</td>\n",
       "      <td>https://www.redbus.in/bus-tickets/vijayawada-t...</td>\n",
       "      <td>TSRTC - 1590</td>\n",
       "      <td>RAJDHANI (A.C. Semi Sleeper)</td>\n",
       "      <td>02:00</td>\n",
       "      <td>05h 40m</td>\n",
       "      <td>07:40</td>\n",
       "      <td>2.7\\n27</td>\n",
       "      <td>INR 480</td>\n",
       "      <td>32 Seats available</td>\n",
       "    </tr>\n",
       "    <tr>\n",
       "      <th>...</th>\n",
       "      <td>...</td>\n",
       "      <td>...</td>\n",
       "      <td>...</td>\n",
       "      <td>...</td>\n",
       "      <td>...</td>\n",
       "      <td>...</td>\n",
       "      <td>...</td>\n",
       "      <td>...</td>\n",
       "      <td>...</td>\n",
       "      <td>...</td>\n",
       "    </tr>\n",
       "    <tr>\n",
       "      <th>10462</th>\n",
       "      <td>Jammu (j and k) to Amritsar</td>\n",
       "      <td>https://www.redbus.in/bus-tickets/jammu-to-amr...</td>\n",
       "      <td>Royal Golden</td>\n",
       "      <td>A/C Seater / Sleeper (2+2)</td>\n",
       "      <td>14:00</td>\n",
       "      <td>06h 00m</td>\n",
       "      <td>20:00</td>\n",
       "      <td>1.8</td>\n",
       "      <td>600</td>\n",
       "      <td>31 Seats available</td>\n",
       "    </tr>\n",
       "    <tr>\n",
       "      <th>10463</th>\n",
       "      <td>Jammu (j and k) to Amritsar</td>\n",
       "      <td>https://www.redbus.in/bus-tickets/jammu-to-amr...</td>\n",
       "      <td>Vijay Tour and Travels</td>\n",
       "      <td>AC Sleeper (2+1)</td>\n",
       "      <td>14:30</td>\n",
       "      <td>05h 30m</td>\n",
       "      <td>20:00</td>\n",
       "      <td>2.2</td>\n",
       "      <td>INR 800</td>\n",
       "      <td>34 Seats available</td>\n",
       "    </tr>\n",
       "    <tr>\n",
       "      <th>10464</th>\n",
       "      <td>Jammu (j and k) to Amritsar</td>\n",
       "      <td>https://www.redbus.in/bus-tickets/jammu-to-amr...</td>\n",
       "      <td>Neeraj travels</td>\n",
       "      <td>A/C Seater / Sleeper (2+1)</td>\n",
       "      <td>15:40</td>\n",
       "      <td>04h 57m</td>\n",
       "      <td>20:37</td>\n",
       "      <td>2.5</td>\n",
       "      <td>INR 799</td>\n",
       "      <td>38 Seats available</td>\n",
       "    </tr>\n",
       "    <tr>\n",
       "      <th>10465</th>\n",
       "      <td>Jammu (j and k) to Amritsar</td>\n",
       "      <td>https://www.redbus.in/bus-tickets/jammu-to-amr...</td>\n",
       "      <td>Vijay Tour and Travels</td>\n",
       "      <td>Bharat Benz A/C Seater /Sleeper (2+1)</td>\n",
       "      <td>18:50</td>\n",
       "      <td>04h 50m</td>\n",
       "      <td>23:40</td>\n",
       "      <td>2.2</td>\n",
       "      <td>INR 600</td>\n",
       "      <td>38 Seats available</td>\n",
       "    </tr>\n",
       "    <tr>\n",
       "      <th>10466</th>\n",
       "      <td>Ajmer to Jammu (j and k)</td>\n",
       "      <td>https://www.redbus.in/bus-tickets/ajmer-to-jammu</td>\n",
       "      <td>Vijay Tour and Travels</td>\n",
       "      <td>A/C Seater / Sleeper (2+1)</td>\n",
       "      <td>15:00</td>\n",
       "      <td>17h 50m</td>\n",
       "      <td>08:50</td>\n",
       "      <td>3.2\\n14</td>\n",
       "      <td>1330</td>\n",
       "      <td>38 Seats available</td>\n",
       "    </tr>\n",
       "  </tbody>\n",
       "</table>\n",
       "<p>10467 rows × 10 columns</p>\n",
       "</div>"
      ],
      "text/plain": [
       "                            route_names  \\\n",
       "Unnamed: 0                                \n",
       "0               Vijayawada to Hyderabad   \n",
       "1               Vijayawada to Hyderabad   \n",
       "2               Vijayawada to Hyderabad   \n",
       "3               Vijayawada to Hyderabad   \n",
       "4               Vijayawada to Hyderabad   \n",
       "...                                 ...   \n",
       "10462       Jammu (j and k) to Amritsar   \n",
       "10463       Jammu (j and k) to Amritsar   \n",
       "10464       Jammu (j and k) to Amritsar   \n",
       "10465       Jammu (j and k) to Amritsar   \n",
       "10466          Ajmer to Jammu (j and k)   \n",
       "\n",
       "                                                  route_links  \\\n",
       "Unnamed: 0                                                      \n",
       "0           https://www.redbus.in/bus-tickets/vijayawada-t...   \n",
       "1           https://www.redbus.in/bus-tickets/vijayawada-t...   \n",
       "2           https://www.redbus.in/bus-tickets/vijayawada-t...   \n",
       "3           https://www.redbus.in/bus-tickets/vijayawada-t...   \n",
       "4           https://www.redbus.in/bus-tickets/vijayawada-t...   \n",
       "...                                                       ...   \n",
       "10462       https://www.redbus.in/bus-tickets/jammu-to-amr...   \n",
       "10463       https://www.redbus.in/bus-tickets/jammu-to-amr...   \n",
       "10464       https://www.redbus.in/bus-tickets/jammu-to-amr...   \n",
       "10465       https://www.redbus.in/bus-tickets/jammu-to-amr...   \n",
       "10466        https://www.redbus.in/bus-tickets/ajmer-to-jammu   \n",
       "\n",
       "                         bus_names                               bus_types  \\\n",
       "Unnamed: 0                                                                   \n",
       "0                     TSRTC - 1758  SUPER LUXURY (NON-AC, 2 + 2 PUSH BACK)   \n",
       "1                    TSRTC - 42162  SUPER LUXURY (NON-AC, 2 + 2 PUSH BACK)   \n",
       "2                    TSRTC - 30710            RAJDHANI (A.C. Semi Sleeper)   \n",
       "3                    TSRTC - 42362  SUPER LUXURY (NON-AC, 2 + 2 PUSH BACK)   \n",
       "4                     TSRTC - 1590            RAJDHANI (A.C. Semi Sleeper)   \n",
       "...                            ...                                     ...   \n",
       "10462                 Royal Golden              A/C Seater / Sleeper (2+2)   \n",
       "10463       Vijay Tour and Travels                        AC Sleeper (2+1)   \n",
       "10464               Neeraj travels              A/C Seater / Sleeper (2+1)   \n",
       "10465       Vijay Tour and Travels   Bharat Benz A/C Seater /Sleeper (2+1)   \n",
       "10466       Vijay Tour and Travels              A/C Seater / Sleeper (2+1)   \n",
       "\n",
       "           departing_time duration reaching_time star_rating   prices  \\\n",
       "Unnamed: 0                                                              \n",
       "0                   00:15  04h 50m         05:05         3.4  INR 396   \n",
       "1                   01:10  06h 10m         07:20     4.2\\n55  INR 396   \n",
       "2                   01:20  05h 40m         07:00     4.1\\n18  INR 480   \n",
       "3                   01:50  06h 10m         08:00     4.3\\n22  INR 396   \n",
       "4                   02:00  05h 40m         07:40     2.7\\n27  INR 480   \n",
       "...                   ...      ...           ...         ...      ...   \n",
       "10462               14:00  06h 00m         20:00         1.8      600   \n",
       "10463               14:30  05h 30m         20:00         2.2  INR 800   \n",
       "10464               15:40  04h 57m         20:37         2.5  INR 799   \n",
       "10465               18:50  04h 50m         23:40         2.2  INR 600   \n",
       "10466               15:00  17h 50m         08:50     3.2\\n14     1330   \n",
       "\n",
       "               seats_available  \n",
       "Unnamed: 0                      \n",
       "0           10 Seats available  \n",
       "1           28 Seats available  \n",
       "2           32 Seats available  \n",
       "3           30 Seats available  \n",
       "4           32 Seats available  \n",
       "...                        ...  \n",
       "10462       31 Seats available  \n",
       "10463       34 Seats available  \n",
       "10464       38 Seats available  \n",
       "10465       38 Seats available  \n",
       "10466       38 Seats available  \n",
       "\n",
       "[10467 rows x 10 columns]"
      ]
     },
     "execution_count": 13,
     "metadata": {},
     "output_type": "execute_result"
    }
   ],
   "source": [
    "rb"
   ]
  },
  {
   "cell_type": "code",
   "execution_count": 14,
   "metadata": {},
   "outputs": [
    {
     "data": {
      "text/plain": [
       "np.int64(238)"
      ]
     },
     "execution_count": 14,
     "metadata": {},
     "output_type": "execute_result"
    }
   ],
   "source": [
    "rb.duplicated().sum()"
   ]
  },
  {
   "cell_type": "code",
   "execution_count": 15,
   "metadata": {},
   "outputs": [],
   "source": [
    "rb.drop_duplicates(keep =\"last\",inplace = True)"
   ]
  },
  {
   "cell_type": "code",
   "execution_count": 16,
   "metadata": {},
   "outputs": [],
   "source": [
    "rb[\"prices\"]=rb[\"prices\"].str.replace(\"INR \",\"\") "
   ]
  },
  {
   "cell_type": "code",
   "execution_count": null,
   "metadata": {},
   "outputs": [],
   "source": []
  },
  {
   "cell_type": "code",
   "execution_count": 17,
   "metadata": {},
   "outputs": [],
   "source": [
    "rb[\"prices\"] = pd.to_numeric(rb[\"prices\"])"
   ]
  },
  {
   "cell_type": "code",
   "execution_count": 18,
   "metadata": {},
   "outputs": [
    {
     "name": "stdout",
     "output_type": "stream",
     "text": [
      "<class 'pandas.core.frame.DataFrame'>\n",
      "Index: 10229 entries, 0 to 10466\n",
      "Data columns (total 10 columns):\n",
      " #   Column           Non-Null Count  Dtype  \n",
      "---  ------           --------------  -----  \n",
      " 0   route_names      10229 non-null  object \n",
      " 1   route_links      10229 non-null  object \n",
      " 2   bus_names        10229 non-null  object \n",
      " 3   bus_types        10229 non-null  object \n",
      " 4   departing_time   10229 non-null  object \n",
      " 5   duration         10229 non-null  object \n",
      " 6   reaching_time    10229 non-null  object \n",
      " 7   star_rating      10229 non-null  object \n",
      " 8   prices           10229 non-null  float64\n",
      " 9   seats_available  10229 non-null  object \n",
      "dtypes: float64(1), object(9)\n",
      "memory usage: 879.1+ KB\n"
     ]
    }
   ],
   "source": [
    "rb.info()"
   ]
  },
  {
   "cell_type": "code",
   "execution_count": 19,
   "metadata": {},
   "outputs": [],
   "source": [
    "rb[\"star_rating\"]=rb[\"star_rating\"].str.split().str[0]"
   ]
  },
  {
   "cell_type": "code",
   "execution_count": 20,
   "metadata": {},
   "outputs": [],
   "source": [
    "rb[\"star_rating\"]=rb[\"star_rating\"].str.replace(\"New\",\"0.0\") "
   ]
  },
  {
   "cell_type": "code",
   "execution_count": 21,
   "metadata": {},
   "outputs": [],
   "source": [
    "rb[\"star_rating\"] = pd.to_numeric(rb[\"star_rating\"])"
   ]
  },
  {
   "cell_type": "code",
   "execution_count": 22,
   "metadata": {},
   "outputs": [
    {
     "name": "stdout",
     "output_type": "stream",
     "text": [
      "<class 'pandas.core.frame.DataFrame'>\n",
      "Index: 10229 entries, 0 to 10466\n",
      "Data columns (total 10 columns):\n",
      " #   Column           Non-Null Count  Dtype  \n",
      "---  ------           --------------  -----  \n",
      " 0   route_names      10229 non-null  object \n",
      " 1   route_links      10229 non-null  object \n",
      " 2   bus_names        10229 non-null  object \n",
      " 3   bus_types        10229 non-null  object \n",
      " 4   departing_time   10229 non-null  object \n",
      " 5   duration         10229 non-null  object \n",
      " 6   reaching_time    10229 non-null  object \n",
      " 7   star_rating      10179 non-null  float64\n",
      " 8   prices           10229 non-null  float64\n",
      " 9   seats_available  10229 non-null  object \n",
      "dtypes: float64(2), object(8)\n",
      "memory usage: 879.1+ KB\n"
     ]
    }
   ],
   "source": [
    "rb.info()"
   ]
  },
  {
   "cell_type": "code",
   "execution_count": 23,
   "metadata": {},
   "outputs": [
    {
     "name": "stderr",
     "output_type": "stream",
     "text": [
      "C:\\Users\\admin\\AppData\\Local\\Temp\\ipykernel_11368\\2124914626.py:1: FutureWarning: A value is trying to be set on a copy of a DataFrame or Series through chained assignment using an inplace method.\n",
      "The behavior will change in pandas 3.0. This inplace method will never work because the intermediate object on which we are setting values always behaves as a copy.\n",
      "\n",
      "For example, when doing 'df[col].method(value, inplace=True)', try using 'df.method({col: value}, inplace=True)' or df[col] = df[col].method(value) instead, to perform the operation inplace on the original object.\n",
      "\n",
      "\n",
      "  rb[\"star_rating\"].fillna(0,inplace= True)\n"
     ]
    }
   ],
   "source": [
    "rb[\"star_rating\"].fillna(0,inplace= True)"
   ]
  },
  {
   "cell_type": "code",
   "execution_count": 24,
   "metadata": {},
   "outputs": [
    {
     "data": {
      "text/plain": [
       "np.int64(0)"
      ]
     },
     "execution_count": 24,
     "metadata": {},
     "output_type": "execute_result"
    }
   ],
   "source": [
    "rb[\"star_rating\"].isnull().sum()\n"
   ]
  },
  {
   "cell_type": "code",
   "execution_count": 25,
   "metadata": {},
   "outputs": [
    {
     "data": {
      "text/plain": [
       "route_names        0\n",
       "route_links        0\n",
       "bus_names          0\n",
       "bus_types          0\n",
       "departing_time     0\n",
       "duration           0\n",
       "reaching_time      0\n",
       "star_rating        0\n",
       "prices             0\n",
       "seats_available    0\n",
       "dtype: int64"
      ]
     },
     "execution_count": 25,
     "metadata": {},
     "output_type": "execute_result"
    }
   ],
   "source": [
    "rb.isnull().sum()"
   ]
  },
  {
   "cell_type": "code",
   "execution_count": 26,
   "metadata": {},
   "outputs": [
    {
     "name": "stderr",
     "output_type": "stream",
     "text": [
      "<>:1: SyntaxWarning: invalid escape sequence '\\d'\n",
      "<>:1: SyntaxWarning: invalid escape sequence '\\d'\n",
      "C:\\Users\\admin\\AppData\\Local\\Temp\\ipykernel_11368\\753645920.py:1: SyntaxWarning: invalid escape sequence '\\d'\n",
      "  rb['seats_available'] = rb['seats_available'].str.extract('(\\d+)').astype(int)\n"
     ]
    }
   ],
   "source": [
    "rb['seats_available'] = rb['seats_available'].str.extract('(\\d+)').astype(int)"
   ]
  },
  {
   "cell_type": "code",
   "execution_count": 85,
   "metadata": {},
   "outputs": [],
   "source": [
    "#rb['departing_time'] = pd.to_datetime(rb.departing_time)\n",
    "#rb['reaching_time'] = pd.to_datetime(rb.reaching_time)"
   ]
  },
  {
   "cell_type": "code",
   "execution_count": 27,
   "metadata": {},
   "outputs": [],
   "source": [
    "rb['departing_time'] = pd.to_datetime(rb['departing_time'], format='%H:%M', errors='coerce').dt.time\n",
    "rb['reaching_time'] = pd.to_datetime(rb['reaching_time'], format='%H:%M', errors='coerce').dt.time"
   ]
  },
  {
   "cell_type": "code",
   "execution_count": 34,
   "metadata": {},
   "outputs": [
    {
     "name": "stdout",
     "output_type": "stream",
     "text": [
      "<class 'pandas.core.frame.DataFrame'>\n",
      "Index: 10229 entries, 0 to 10466\n",
      "Data columns (total 10 columns):\n",
      " #   Column           Non-Null Count  Dtype  \n",
      "---  ------           --------------  -----  \n",
      " 0   route_names      10229 non-null  object \n",
      " 1   route_links      10229 non-null  object \n",
      " 2   bus_names        10229 non-null  object \n",
      " 3   bus_types        10229 non-null  object \n",
      " 4   departing_time   10229 non-null  object \n",
      " 5   duration         10229 non-null  object \n",
      " 6   reaching_time    10229 non-null  object \n",
      " 7   star_rating      10229 non-null  float64\n",
      " 8   prices           10229 non-null  float64\n",
      " 9   seats_available  10229 non-null  int64  \n",
      "dtypes: float64(2), int64(1), object(7)\n",
      "memory usage: 879.1+ KB\n"
     ]
    },
    {
     "data": {
      "text/html": [
       "<div>\n",
       "<style scoped>\n",
       "    .dataframe tbody tr th:only-of-type {\n",
       "        vertical-align: middle;\n",
       "    }\n",
       "\n",
       "    .dataframe tbody tr th {\n",
       "        vertical-align: top;\n",
       "    }\n",
       "\n",
       "    .dataframe thead th {\n",
       "        text-align: right;\n",
       "    }\n",
       "</style>\n",
       "<table border=\"1\" class=\"dataframe\">\n",
       "  <thead>\n",
       "    <tr style=\"text-align: right;\">\n",
       "      <th></th>\n",
       "      <th>route_names</th>\n",
       "      <th>route_links</th>\n",
       "      <th>bus_names</th>\n",
       "      <th>bus_types</th>\n",
       "      <th>departing_time</th>\n",
       "      <th>duration</th>\n",
       "      <th>reaching_time</th>\n",
       "      <th>star_rating</th>\n",
       "      <th>prices</th>\n",
       "      <th>seats_available</th>\n",
       "    </tr>\n",
       "    <tr>\n",
       "      <th>Unnamed: 0</th>\n",
       "      <th></th>\n",
       "      <th></th>\n",
       "      <th></th>\n",
       "      <th></th>\n",
       "      <th></th>\n",
       "      <th></th>\n",
       "      <th></th>\n",
       "      <th></th>\n",
       "      <th></th>\n",
       "      <th></th>\n",
       "    </tr>\n",
       "  </thead>\n",
       "  <tbody>\n",
       "    <tr>\n",
       "      <th>0</th>\n",
       "      <td>Vijayawada to Hyderabad</td>\n",
       "      <td>https://www.redbus.in/bus-tickets/vijayawada-t...</td>\n",
       "      <td>TSRTC - 1758</td>\n",
       "      <td>SUPER LUXURY (NON-AC, 2 + 2 PUSH BACK)</td>\n",
       "      <td>00:15:00</td>\n",
       "      <td>04h 50m</td>\n",
       "      <td>05:05:00</td>\n",
       "      <td>3.4</td>\n",
       "      <td>396.0</td>\n",
       "      <td>10</td>\n",
       "    </tr>\n",
       "    <tr>\n",
       "      <th>1</th>\n",
       "      <td>Vijayawada to Hyderabad</td>\n",
       "      <td>https://www.redbus.in/bus-tickets/vijayawada-t...</td>\n",
       "      <td>TSRTC - 42162</td>\n",
       "      <td>SUPER LUXURY (NON-AC, 2 + 2 PUSH BACK)</td>\n",
       "      <td>01:10:00</td>\n",
       "      <td>06h 10m</td>\n",
       "      <td>07:20:00</td>\n",
       "      <td>4.2</td>\n",
       "      <td>396.0</td>\n",
       "      <td>28</td>\n",
       "    </tr>\n",
       "    <tr>\n",
       "      <th>2</th>\n",
       "      <td>Vijayawada to Hyderabad</td>\n",
       "      <td>https://www.redbus.in/bus-tickets/vijayawada-t...</td>\n",
       "      <td>TSRTC - 30710</td>\n",
       "      <td>RAJDHANI (A.C. Semi Sleeper)</td>\n",
       "      <td>01:20:00</td>\n",
       "      <td>05h 40m</td>\n",
       "      <td>07:00:00</td>\n",
       "      <td>4.1</td>\n",
       "      <td>480.0</td>\n",
       "      <td>32</td>\n",
       "    </tr>\n",
       "    <tr>\n",
       "      <th>3</th>\n",
       "      <td>Vijayawada to Hyderabad</td>\n",
       "      <td>https://www.redbus.in/bus-tickets/vijayawada-t...</td>\n",
       "      <td>TSRTC - 42362</td>\n",
       "      <td>SUPER LUXURY (NON-AC, 2 + 2 PUSH BACK)</td>\n",
       "      <td>01:50:00</td>\n",
       "      <td>06h 10m</td>\n",
       "      <td>08:00:00</td>\n",
       "      <td>4.3</td>\n",
       "      <td>396.0</td>\n",
       "      <td>30</td>\n",
       "    </tr>\n",
       "    <tr>\n",
       "      <th>4</th>\n",
       "      <td>Vijayawada to Hyderabad</td>\n",
       "      <td>https://www.redbus.in/bus-tickets/vijayawada-t...</td>\n",
       "      <td>TSRTC - 1590</td>\n",
       "      <td>RAJDHANI (A.C. Semi Sleeper)</td>\n",
       "      <td>02:00:00</td>\n",
       "      <td>05h 40m</td>\n",
       "      <td>07:40:00</td>\n",
       "      <td>2.7</td>\n",
       "      <td>480.0</td>\n",
       "      <td>32</td>\n",
       "    </tr>\n",
       "    <tr>\n",
       "      <th>...</th>\n",
       "      <td>...</td>\n",
       "      <td>...</td>\n",
       "      <td>...</td>\n",
       "      <td>...</td>\n",
       "      <td>...</td>\n",
       "      <td>...</td>\n",
       "      <td>...</td>\n",
       "      <td>...</td>\n",
       "      <td>...</td>\n",
       "      <td>...</td>\n",
       "    </tr>\n",
       "    <tr>\n",
       "      <th>10462</th>\n",
       "      <td>Jammu (j and k) to Amritsar</td>\n",
       "      <td>https://www.redbus.in/bus-tickets/jammu-to-amr...</td>\n",
       "      <td>Royal Golden</td>\n",
       "      <td>A/C Seater / Sleeper (2+2)</td>\n",
       "      <td>14:00:00</td>\n",
       "      <td>06h 00m</td>\n",
       "      <td>20:00:00</td>\n",
       "      <td>1.8</td>\n",
       "      <td>600.0</td>\n",
       "      <td>31</td>\n",
       "    </tr>\n",
       "    <tr>\n",
       "      <th>10463</th>\n",
       "      <td>Jammu (j and k) to Amritsar</td>\n",
       "      <td>https://www.redbus.in/bus-tickets/jammu-to-amr...</td>\n",
       "      <td>Vijay Tour and Travels</td>\n",
       "      <td>AC Sleeper (2+1)</td>\n",
       "      <td>14:30:00</td>\n",
       "      <td>05h 30m</td>\n",
       "      <td>20:00:00</td>\n",
       "      <td>2.2</td>\n",
       "      <td>800.0</td>\n",
       "      <td>34</td>\n",
       "    </tr>\n",
       "    <tr>\n",
       "      <th>10464</th>\n",
       "      <td>Jammu (j and k) to Amritsar</td>\n",
       "      <td>https://www.redbus.in/bus-tickets/jammu-to-amr...</td>\n",
       "      <td>Neeraj travels</td>\n",
       "      <td>A/C Seater / Sleeper (2+1)</td>\n",
       "      <td>15:40:00</td>\n",
       "      <td>04h 57m</td>\n",
       "      <td>20:37:00</td>\n",
       "      <td>2.5</td>\n",
       "      <td>799.0</td>\n",
       "      <td>38</td>\n",
       "    </tr>\n",
       "    <tr>\n",
       "      <th>10465</th>\n",
       "      <td>Jammu (j and k) to Amritsar</td>\n",
       "      <td>https://www.redbus.in/bus-tickets/jammu-to-amr...</td>\n",
       "      <td>Vijay Tour and Travels</td>\n",
       "      <td>Bharat Benz A/C Seater /Sleeper (2+1)</td>\n",
       "      <td>18:50:00</td>\n",
       "      <td>04h 50m</td>\n",
       "      <td>23:40:00</td>\n",
       "      <td>2.2</td>\n",
       "      <td>600.0</td>\n",
       "      <td>38</td>\n",
       "    </tr>\n",
       "    <tr>\n",
       "      <th>10466</th>\n",
       "      <td>Ajmer to Jammu (j and k)</td>\n",
       "      <td>https://www.redbus.in/bus-tickets/ajmer-to-jammu</td>\n",
       "      <td>Vijay Tour and Travels</td>\n",
       "      <td>A/C Seater / Sleeper (2+1)</td>\n",
       "      <td>15:00:00</td>\n",
       "      <td>17h 50m</td>\n",
       "      <td>08:50:00</td>\n",
       "      <td>3.2</td>\n",
       "      <td>1330.0</td>\n",
       "      <td>38</td>\n",
       "    </tr>\n",
       "  </tbody>\n",
       "</table>\n",
       "<p>10229 rows × 10 columns</p>\n",
       "</div>"
      ],
      "text/plain": [
       "                            route_names  \\\n",
       "Unnamed: 0                                \n",
       "0               Vijayawada to Hyderabad   \n",
       "1               Vijayawada to Hyderabad   \n",
       "2               Vijayawada to Hyderabad   \n",
       "3               Vijayawada to Hyderabad   \n",
       "4               Vijayawada to Hyderabad   \n",
       "...                                 ...   \n",
       "10462       Jammu (j and k) to Amritsar   \n",
       "10463       Jammu (j and k) to Amritsar   \n",
       "10464       Jammu (j and k) to Amritsar   \n",
       "10465       Jammu (j and k) to Amritsar   \n",
       "10466          Ajmer to Jammu (j and k)   \n",
       "\n",
       "                                                  route_links  \\\n",
       "Unnamed: 0                                                      \n",
       "0           https://www.redbus.in/bus-tickets/vijayawada-t...   \n",
       "1           https://www.redbus.in/bus-tickets/vijayawada-t...   \n",
       "2           https://www.redbus.in/bus-tickets/vijayawada-t...   \n",
       "3           https://www.redbus.in/bus-tickets/vijayawada-t...   \n",
       "4           https://www.redbus.in/bus-tickets/vijayawada-t...   \n",
       "...                                                       ...   \n",
       "10462       https://www.redbus.in/bus-tickets/jammu-to-amr...   \n",
       "10463       https://www.redbus.in/bus-tickets/jammu-to-amr...   \n",
       "10464       https://www.redbus.in/bus-tickets/jammu-to-amr...   \n",
       "10465       https://www.redbus.in/bus-tickets/jammu-to-amr...   \n",
       "10466        https://www.redbus.in/bus-tickets/ajmer-to-jammu   \n",
       "\n",
       "                         bus_names                               bus_types  \\\n",
       "Unnamed: 0                                                                   \n",
       "0                     TSRTC - 1758  SUPER LUXURY (NON-AC, 2 + 2 PUSH BACK)   \n",
       "1                    TSRTC - 42162  SUPER LUXURY (NON-AC, 2 + 2 PUSH BACK)   \n",
       "2                    TSRTC - 30710            RAJDHANI (A.C. Semi Sleeper)   \n",
       "3                    TSRTC - 42362  SUPER LUXURY (NON-AC, 2 + 2 PUSH BACK)   \n",
       "4                     TSRTC - 1590            RAJDHANI (A.C. Semi Sleeper)   \n",
       "...                            ...                                     ...   \n",
       "10462                 Royal Golden              A/C Seater / Sleeper (2+2)   \n",
       "10463       Vijay Tour and Travels                        AC Sleeper (2+1)   \n",
       "10464               Neeraj travels              A/C Seater / Sleeper (2+1)   \n",
       "10465       Vijay Tour and Travels   Bharat Benz A/C Seater /Sleeper (2+1)   \n",
       "10466       Vijay Tour and Travels              A/C Seater / Sleeper (2+1)   \n",
       "\n",
       "           departing_time duration reaching_time  star_rating  prices  \\\n",
       "Unnamed: 0                                                              \n",
       "0                00:15:00  04h 50m      05:05:00          3.4   396.0   \n",
       "1                01:10:00  06h 10m      07:20:00          4.2   396.0   \n",
       "2                01:20:00  05h 40m      07:00:00          4.1   480.0   \n",
       "3                01:50:00  06h 10m      08:00:00          4.3   396.0   \n",
       "4                02:00:00  05h 40m      07:40:00          2.7   480.0   \n",
       "...                   ...      ...           ...          ...     ...   \n",
       "10462            14:00:00  06h 00m      20:00:00          1.8   600.0   \n",
       "10463            14:30:00  05h 30m      20:00:00          2.2   800.0   \n",
       "10464            15:40:00  04h 57m      20:37:00          2.5   799.0   \n",
       "10465            18:50:00  04h 50m      23:40:00          2.2   600.0   \n",
       "10466            15:00:00  17h 50m      08:50:00          3.2  1330.0   \n",
       "\n",
       "            seats_available  \n",
       "Unnamed: 0                   \n",
       "0                        10  \n",
       "1                        28  \n",
       "2                        32  \n",
       "3                        30  \n",
       "4                        32  \n",
       "...                     ...  \n",
       "10462                    31  \n",
       "10463                    34  \n",
       "10464                    38  \n",
       "10465                    38  \n",
       "10466                    38  \n",
       "\n",
       "[10229 rows x 10 columns]"
      ]
     },
     "execution_count": 34,
     "metadata": {},
     "output_type": "execute_result"
    }
   ],
   "source": [
    "rb.info()\n",
    "rb"
   ]
  },
  {
   "cell_type": "code",
   "execution_count": 29,
   "metadata": {},
   "outputs": [
    {
     "name": "stdout",
     "output_type": "stream",
     "text": [
      "<class 'pandas.core.series.Series'>\n",
      "Index: 10229 entries, 0 to 10466\n",
      "Series name: departing_time\n",
      "Non-Null Count  Dtype \n",
      "--------------  ----- \n",
      "10229 non-null  object\n",
      "dtypes: object(1)\n",
      "memory usage: 159.8+ KB\n"
     ]
    }
   ],
   "source": [
    "rb[\"departing_time\"].info()"
   ]
  },
  {
   "cell_type": "code",
   "execution_count": 30,
   "metadata": {},
   "outputs": [
    {
     "name": "stdout",
     "output_type": "stream",
     "text": [
      "<class 'pandas.core.series.Series'>\n",
      "Index: 10229 entries, 0 to 10466\n",
      "Series name: reaching_time\n",
      "Non-Null Count  Dtype \n",
      "--------------  ----- \n",
      "10229 non-null  object\n",
      "dtypes: object(1)\n",
      "memory usage: 159.8+ KB\n"
     ]
    }
   ],
   "source": [
    "rb[\"reaching_time\"].info()"
   ]
  },
  {
   "cell_type": "code",
   "execution_count": 31,
   "metadata": {},
   "outputs": [
    {
     "name": "stdout",
     "output_type": "stream",
     "text": [
      "<class 'datetime.time'>\n",
      "<class 'datetime.time'>\n"
     ]
    }
   ],
   "source": [
    "print(type(rb['departing_time'].iloc[1200]))\n",
    "print(type(rb['reaching_time'].iloc[1200]))"
   ]
  },
  {
   "cell_type": "code",
   "execution_count": 32,
   "metadata": {},
   "outputs": [
    {
     "data": {
      "text/html": [
       "<div>\n",
       "<style scoped>\n",
       "    .dataframe tbody tr th:only-of-type {\n",
       "        vertical-align: middle;\n",
       "    }\n",
       "\n",
       "    .dataframe tbody tr th {\n",
       "        vertical-align: top;\n",
       "    }\n",
       "\n",
       "    .dataframe thead th {\n",
       "        text-align: right;\n",
       "    }\n",
       "</style>\n",
       "<table border=\"1\" class=\"dataframe\">\n",
       "  <thead>\n",
       "    <tr style=\"text-align: right;\">\n",
       "      <th></th>\n",
       "      <th>route_names</th>\n",
       "      <th>route_links</th>\n",
       "      <th>bus_names</th>\n",
       "      <th>bus_types</th>\n",
       "      <th>departing_time</th>\n",
       "      <th>duration</th>\n",
       "      <th>reaching_time</th>\n",
       "      <th>star_rating</th>\n",
       "      <th>prices</th>\n",
       "      <th>seats_available</th>\n",
       "    </tr>\n",
       "    <tr>\n",
       "      <th>Unnamed: 0</th>\n",
       "      <th></th>\n",
       "      <th></th>\n",
       "      <th></th>\n",
       "      <th></th>\n",
       "      <th></th>\n",
       "      <th></th>\n",
       "      <th></th>\n",
       "      <th></th>\n",
       "      <th></th>\n",
       "      <th></th>\n",
       "    </tr>\n",
       "  </thead>\n",
       "  <tbody>\n",
       "    <tr>\n",
       "      <th>0</th>\n",
       "      <td>Vijayawada to Hyderabad</td>\n",
       "      <td>https://www.redbus.in/bus-tickets/vijayawada-t...</td>\n",
       "      <td>TSRTC - 1758</td>\n",
       "      <td>SUPER LUXURY (NON-AC, 2 + 2 PUSH BACK)</td>\n",
       "      <td>00:15:00</td>\n",
       "      <td>04h 50m</td>\n",
       "      <td>05:05:00</td>\n",
       "      <td>3.4</td>\n",
       "      <td>396.0</td>\n",
       "      <td>10</td>\n",
       "    </tr>\n",
       "    <tr>\n",
       "      <th>1</th>\n",
       "      <td>Vijayawada to Hyderabad</td>\n",
       "      <td>https://www.redbus.in/bus-tickets/vijayawada-t...</td>\n",
       "      <td>TSRTC - 42162</td>\n",
       "      <td>SUPER LUXURY (NON-AC, 2 + 2 PUSH BACK)</td>\n",
       "      <td>01:10:00</td>\n",
       "      <td>06h 10m</td>\n",
       "      <td>07:20:00</td>\n",
       "      <td>4.2</td>\n",
       "      <td>396.0</td>\n",
       "      <td>28</td>\n",
       "    </tr>\n",
       "    <tr>\n",
       "      <th>2</th>\n",
       "      <td>Vijayawada to Hyderabad</td>\n",
       "      <td>https://www.redbus.in/bus-tickets/vijayawada-t...</td>\n",
       "      <td>TSRTC - 30710</td>\n",
       "      <td>RAJDHANI (A.C. Semi Sleeper)</td>\n",
       "      <td>01:20:00</td>\n",
       "      <td>05h 40m</td>\n",
       "      <td>07:00:00</td>\n",
       "      <td>4.1</td>\n",
       "      <td>480.0</td>\n",
       "      <td>32</td>\n",
       "    </tr>\n",
       "    <tr>\n",
       "      <th>3</th>\n",
       "      <td>Vijayawada to Hyderabad</td>\n",
       "      <td>https://www.redbus.in/bus-tickets/vijayawada-t...</td>\n",
       "      <td>TSRTC - 42362</td>\n",
       "      <td>SUPER LUXURY (NON-AC, 2 + 2 PUSH BACK)</td>\n",
       "      <td>01:50:00</td>\n",
       "      <td>06h 10m</td>\n",
       "      <td>08:00:00</td>\n",
       "      <td>4.3</td>\n",
       "      <td>396.0</td>\n",
       "      <td>30</td>\n",
       "    </tr>\n",
       "    <tr>\n",
       "      <th>4</th>\n",
       "      <td>Vijayawada to Hyderabad</td>\n",
       "      <td>https://www.redbus.in/bus-tickets/vijayawada-t...</td>\n",
       "      <td>TSRTC - 1590</td>\n",
       "      <td>RAJDHANI (A.C. Semi Sleeper)</td>\n",
       "      <td>02:00:00</td>\n",
       "      <td>05h 40m</td>\n",
       "      <td>07:40:00</td>\n",
       "      <td>2.7</td>\n",
       "      <td>480.0</td>\n",
       "      <td>32</td>\n",
       "    </tr>\n",
       "    <tr>\n",
       "      <th>...</th>\n",
       "      <td>...</td>\n",
       "      <td>...</td>\n",
       "      <td>...</td>\n",
       "      <td>...</td>\n",
       "      <td>...</td>\n",
       "      <td>...</td>\n",
       "      <td>...</td>\n",
       "      <td>...</td>\n",
       "      <td>...</td>\n",
       "      <td>...</td>\n",
       "    </tr>\n",
       "    <tr>\n",
       "      <th>10462</th>\n",
       "      <td>Jammu (j and k) to Amritsar</td>\n",
       "      <td>https://www.redbus.in/bus-tickets/jammu-to-amr...</td>\n",
       "      <td>Royal Golden</td>\n",
       "      <td>A/C Seater / Sleeper (2+2)</td>\n",
       "      <td>14:00:00</td>\n",
       "      <td>06h 00m</td>\n",
       "      <td>20:00:00</td>\n",
       "      <td>1.8</td>\n",
       "      <td>600.0</td>\n",
       "      <td>31</td>\n",
       "    </tr>\n",
       "    <tr>\n",
       "      <th>10463</th>\n",
       "      <td>Jammu (j and k) to Amritsar</td>\n",
       "      <td>https://www.redbus.in/bus-tickets/jammu-to-amr...</td>\n",
       "      <td>Vijay Tour and Travels</td>\n",
       "      <td>AC Sleeper (2+1)</td>\n",
       "      <td>14:30:00</td>\n",
       "      <td>05h 30m</td>\n",
       "      <td>20:00:00</td>\n",
       "      <td>2.2</td>\n",
       "      <td>800.0</td>\n",
       "      <td>34</td>\n",
       "    </tr>\n",
       "    <tr>\n",
       "      <th>10464</th>\n",
       "      <td>Jammu (j and k) to Amritsar</td>\n",
       "      <td>https://www.redbus.in/bus-tickets/jammu-to-amr...</td>\n",
       "      <td>Neeraj travels</td>\n",
       "      <td>A/C Seater / Sleeper (2+1)</td>\n",
       "      <td>15:40:00</td>\n",
       "      <td>04h 57m</td>\n",
       "      <td>20:37:00</td>\n",
       "      <td>2.5</td>\n",
       "      <td>799.0</td>\n",
       "      <td>38</td>\n",
       "    </tr>\n",
       "    <tr>\n",
       "      <th>10465</th>\n",
       "      <td>Jammu (j and k) to Amritsar</td>\n",
       "      <td>https://www.redbus.in/bus-tickets/jammu-to-amr...</td>\n",
       "      <td>Vijay Tour and Travels</td>\n",
       "      <td>Bharat Benz A/C Seater /Sleeper (2+1)</td>\n",
       "      <td>18:50:00</td>\n",
       "      <td>04h 50m</td>\n",
       "      <td>23:40:00</td>\n",
       "      <td>2.2</td>\n",
       "      <td>600.0</td>\n",
       "      <td>38</td>\n",
       "    </tr>\n",
       "    <tr>\n",
       "      <th>10466</th>\n",
       "      <td>Ajmer to Jammu (j and k)</td>\n",
       "      <td>https://www.redbus.in/bus-tickets/ajmer-to-jammu</td>\n",
       "      <td>Vijay Tour and Travels</td>\n",
       "      <td>A/C Seater / Sleeper (2+1)</td>\n",
       "      <td>15:00:00</td>\n",
       "      <td>17h 50m</td>\n",
       "      <td>08:50:00</td>\n",
       "      <td>3.2</td>\n",
       "      <td>1330.0</td>\n",
       "      <td>38</td>\n",
       "    </tr>\n",
       "  </tbody>\n",
       "</table>\n",
       "<p>10229 rows × 10 columns</p>\n",
       "</div>"
      ],
      "text/plain": [
       "                            route_names  \\\n",
       "Unnamed: 0                                \n",
       "0               Vijayawada to Hyderabad   \n",
       "1               Vijayawada to Hyderabad   \n",
       "2               Vijayawada to Hyderabad   \n",
       "3               Vijayawada to Hyderabad   \n",
       "4               Vijayawada to Hyderabad   \n",
       "...                                 ...   \n",
       "10462       Jammu (j and k) to Amritsar   \n",
       "10463       Jammu (j and k) to Amritsar   \n",
       "10464       Jammu (j and k) to Amritsar   \n",
       "10465       Jammu (j and k) to Amritsar   \n",
       "10466          Ajmer to Jammu (j and k)   \n",
       "\n",
       "                                                  route_links  \\\n",
       "Unnamed: 0                                                      \n",
       "0           https://www.redbus.in/bus-tickets/vijayawada-t...   \n",
       "1           https://www.redbus.in/bus-tickets/vijayawada-t...   \n",
       "2           https://www.redbus.in/bus-tickets/vijayawada-t...   \n",
       "3           https://www.redbus.in/bus-tickets/vijayawada-t...   \n",
       "4           https://www.redbus.in/bus-tickets/vijayawada-t...   \n",
       "...                                                       ...   \n",
       "10462       https://www.redbus.in/bus-tickets/jammu-to-amr...   \n",
       "10463       https://www.redbus.in/bus-tickets/jammu-to-amr...   \n",
       "10464       https://www.redbus.in/bus-tickets/jammu-to-amr...   \n",
       "10465       https://www.redbus.in/bus-tickets/jammu-to-amr...   \n",
       "10466        https://www.redbus.in/bus-tickets/ajmer-to-jammu   \n",
       "\n",
       "                         bus_names                               bus_types  \\\n",
       "Unnamed: 0                                                                   \n",
       "0                     TSRTC - 1758  SUPER LUXURY (NON-AC, 2 + 2 PUSH BACK)   \n",
       "1                    TSRTC - 42162  SUPER LUXURY (NON-AC, 2 + 2 PUSH BACK)   \n",
       "2                    TSRTC - 30710            RAJDHANI (A.C. Semi Sleeper)   \n",
       "3                    TSRTC - 42362  SUPER LUXURY (NON-AC, 2 + 2 PUSH BACK)   \n",
       "4                     TSRTC - 1590            RAJDHANI (A.C. Semi Sleeper)   \n",
       "...                            ...                                     ...   \n",
       "10462                 Royal Golden              A/C Seater / Sleeper (2+2)   \n",
       "10463       Vijay Tour and Travels                        AC Sleeper (2+1)   \n",
       "10464               Neeraj travels              A/C Seater / Sleeper (2+1)   \n",
       "10465       Vijay Tour and Travels   Bharat Benz A/C Seater /Sleeper (2+1)   \n",
       "10466       Vijay Tour and Travels              A/C Seater / Sleeper (2+1)   \n",
       "\n",
       "           departing_time duration reaching_time  star_rating  prices  \\\n",
       "Unnamed: 0                                                              \n",
       "0                00:15:00  04h 50m      05:05:00          3.4   396.0   \n",
       "1                01:10:00  06h 10m      07:20:00          4.2   396.0   \n",
       "2                01:20:00  05h 40m      07:00:00          4.1   480.0   \n",
       "3                01:50:00  06h 10m      08:00:00          4.3   396.0   \n",
       "4                02:00:00  05h 40m      07:40:00          2.7   480.0   \n",
       "...                   ...      ...           ...          ...     ...   \n",
       "10462            14:00:00  06h 00m      20:00:00          1.8   600.0   \n",
       "10463            14:30:00  05h 30m      20:00:00          2.2   800.0   \n",
       "10464            15:40:00  04h 57m      20:37:00          2.5   799.0   \n",
       "10465            18:50:00  04h 50m      23:40:00          2.2   600.0   \n",
       "10466            15:00:00  17h 50m      08:50:00          3.2  1330.0   \n",
       "\n",
       "            seats_available  \n",
       "Unnamed: 0                   \n",
       "0                        10  \n",
       "1                        28  \n",
       "2                        32  \n",
       "3                        30  \n",
       "4                        32  \n",
       "...                     ...  \n",
       "10462                    31  \n",
       "10463                    34  \n",
       "10464                    38  \n",
       "10465                    38  \n",
       "10466                    38  \n",
       "\n",
       "[10229 rows x 10 columns]"
      ]
     },
     "execution_count": 32,
     "metadata": {},
     "output_type": "execute_result"
    }
   ],
   "source": [
    "rb"
   ]
  },
  {
   "cell_type": "code",
   "execution_count": 2,
   "metadata": {},
   "outputs": [
    {
     "ename": "NameError",
     "evalue": "name 'rb' is not defined",
     "output_type": "error",
     "traceback": [
      "\u001b[1;31m---------------------------------------------------------------------------\u001b[0m",
      "\u001b[1;31mNameError\u001b[0m                                 Traceback (most recent call last)",
      "Cell \u001b[1;32mIn[2], line 1\u001b[0m\n\u001b[1;32m----> 1\u001b[0m \u001b[43mrb\u001b[49m\u001b[38;5;241m.\u001b[39mto_csv(\u001b[38;5;124m\"\u001b[39m\u001b[38;5;124mrb.csv\u001b[39m\u001b[38;5;124m\"\u001b[39m)\n",
      "\u001b[1;31mNameError\u001b[0m: name 'rb' is not defined"
     ]
    }
   ],
   "source": [
    "rb.to_csv(\"rb.csv\")"
   ]
  },
  {
   "cell_type": "code",
   "execution_count": null,
   "metadata": {},
   "outputs": [],
   "source": []
  },
  {
   "cell_type": "code",
   "execution_count": null,
   "metadata": {},
   "outputs": [],
   "source": []
  },
  {
   "cell_type": "code",
   "execution_count": 35,
   "metadata": {},
   "outputs": [],
   "source": [
    "sql=limat.execute(\"show databases\")"
   ]
  },
  {
   "cell_type": "code",
   "execution_count": 1,
   "metadata": {},
   "outputs": [
    {
     "ename": "NameError",
     "evalue": "name 'rb' is not defined",
     "output_type": "error",
     "traceback": [
      "\u001b[1;31m---------------------------------------------------------------------------\u001b[0m",
      "\u001b[1;31mNameError\u001b[0m                                 Traceback (most recent call last)",
      "Cell \u001b[1;32mIn[1], line 2\u001b[0m\n\u001b[0;32m      1\u001b[0m table_name \u001b[38;5;241m=\u001b[39m \u001b[38;5;124m'\u001b[39m\u001b[38;5;124mredbus\u001b[39m\u001b[38;5;124m'\u001b[39m\n\u001b[1;32m----> 2\u001b[0m \u001b[43mrb\u001b[49m\u001b[38;5;241m.\u001b[39mto_sql(name\u001b[38;5;241m=\u001b[39mtable_name,con\u001b[38;5;241m=\u001b[39mlimat,if_exists \u001b[38;5;241m=\u001b[39m\u001b[38;5;124m'\u001b[39m\u001b[38;5;124mappend\u001b[39m\u001b[38;5;124m'\u001b[39m,index\u001b[38;5;241m=\u001b[39m\u001b[38;5;28;01mFalse\u001b[39;00m)\n",
      "\u001b[1;31mNameError\u001b[0m: name 'rb' is not defined"
     ]
    }
   ],
   "source": [
    "table_name = 'redbus'\n",
    "rb.to_sql(name=table_name,con=limat,if_exists ='append',index=False)"
   ]
  },
  {
   "cell_type": "code",
   "execution_count": null,
   "metadata": {},
   "outputs": [],
   "source": []
  }
 ],
 "metadata": {
  "kernelspec": {
   "display_name": "Python 3",
   "language": "python",
   "name": "python3"
  },
  "language_info": {
   "codemirror_mode": {
    "name": "ipython",
    "version": 3
   },
   "file_extension": ".py",
   "mimetype": "text/x-python",
   "name": "python",
   "nbconvert_exporter": "python",
   "pygments_lexer": "ipython3",
   "version": "3.12.4"
  }
 },
 "nbformat": 4,
 "nbformat_minor": 2
}
